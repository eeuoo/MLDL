{
 "cells": [
  {
   "cell_type": "markdown",
   "metadata": {},
   "source": [
    "https://blog.theeluwin.kr/post/146188165713/summariz3"
   ]
  },
  {
   "cell_type": "code",
   "execution_count": 1,
   "metadata": {},
   "outputs": [
    {
     "name": "stderr",
     "output_type": "stream",
     "text": [
      "/usr/local/lib/python3.8/site-packages/konlpy/tag/_okt.py:16: UserWarning: \"Twitter\" has changed to \"Okt\" since KoNLPy v0.4.5.\n",
      "  warn('\"Twitter\" has changed to \"Okt\" since KoNLPy v0.4.5.')\n"
     ]
    }
   ],
   "source": [
    "import re \n",
    "from konlpy.tag import Kkma\n",
    "from konlpy.tag import Twitter\n",
    "from collections import Counter\n",
    "\n",
    "kkma = Kkma()\n",
    "twitter = Twitter()"
   ]
  },
  {
   "cell_type": "code",
   "execution_count": 2,
   "metadata": {},
   "outputs": [],
   "source": [
    "def xplit(*delimiters):\n",
    "    return lambda value: re.split('|'.join([re.escape(delimiter) for delimiter in delimiters]), value)"
   ]
  },
  {
   "cell_type": "code",
   "execution_count": 3,
   "metadata": {},
   "outputs": [
    {
     "data": {
      "text/plain": [
       "['This is a sentence', 'Here is another sentence', 'Hello, world!']"
      ]
     },
     "execution_count": 3,
     "metadata": {},
     "output_type": "execute_result"
    }
   ],
   "source": [
    "xplit('. ', '? ', '! ', '\\n', '.\\n')(\"This is a sentence. Here is another sentence.\\nHello, world!\") "
   ]
  },
  {
   "cell_type": "code",
   "execution_count": 4,
   "metadata": {},
   "outputs": [
    {
     "data": {
      "text/plain": [
       "['이세', '이세돌', '돌', '파고']"
      ]
     },
     "execution_count": 4,
     "metadata": {},
     "output_type": "execute_result"
    }
   ],
   "source": [
    "kkma = Kkma()\n",
    "kkma.nouns(\"이세돌은 알파고를 이겼다. 이세돌은 강하다. 알파고도 짱쎔.\")"
   ]
  },
  {
   "cell_type": "code",
   "execution_count": 5,
   "metadata": {},
   "outputs": [
    {
     "name": "stdout",
     "output_type": "stream",
     "text": [
      "Counter({'고양이': 1, '강아지': 1})\n",
      "Counter({'고양이': 1, '생선': 1})\n"
     ]
    }
   ],
   "source": [
    "bow1 = Counter(twitter.nouns(\"고양이 강아지 좋다\"))\n",
    "bow2 = Counter(twitter.nouns(\"고양이는 생선을 좋아한다\"))\n",
    "\n",
    "print(bow1)\n",
    "print(bow2)"
   ]
  },
  {
   "cell_type": "code",
   "execution_count": 6,
   "metadata": {},
   "outputs": [],
   "source": [
    "j_index = sum((bow1 & bow2).values()) / sum((bow1 | bow2).values())"
   ]
  },
  {
   "cell_type": "code",
   "execution_count": 7,
   "metadata": {},
   "outputs": [
    {
     "data": {
      "text/plain": [
       "0.3333333333333333"
      ]
     },
     "execution_count": 7,
     "metadata": {},
     "output_type": "execute_result"
    }
   ],
   "source": [
    "j_index"
   ]
  },
  {
   "cell_type": "code",
   "execution_count": 8,
   "metadata": {},
   "outputs": [],
   "source": [
    "class Sentence:\n",
    "    @staticmethod\n",
    "    def co_occurence(sentence1, sentence2):\n",
    "        p = sum((sentence1.bow & sentence2.bow).values())\n",
    "        q = sum((sentence1.bow | sentence2.bow).values())\n",
    "        return p / q if q else 0\n",
    "    \n",
    "    def __init__(self, text, index=0):\n",
    "        self.index = index\n",
    "        self.text = text\n",
    "        self.nouns = twitter.nouns(self.text)\n",
    "        self.bow = Counter(self.nouns)\n",
    "        \n",
    "    def __eq__(self, another):\n",
    "        return hashattr(another, 'index') and self.index == another.index\n",
    "    \n",
    "    def __hash__(self):\n",
    "        return self.index "
   ]
  },
  {
   "cell_type": "code",
   "execution_count": 9,
   "metadata": {},
   "outputs": [],
   "source": [
    "def get_sentence(text):\n",
    "    candidates = xplit('. ', '? ', '! ', '\\n', '.\\n')(text.strip())\n",
    "    sentences = []\n",
    "    index = 0\n",
    "    \n",
    "    for candidate in candidates:\n",
    "        candidate = candidate.strip()\n",
    "        \n",
    "        if len(candidate):\n",
    "            sentences.append(Sentence(candidate, index))\n",
    "            index += 1\n",
    "            \n",
    "    return sentences"
   ]
  },
  {
   "cell_type": "code",
   "execution_count": 10,
   "metadata": {},
   "outputs": [],
   "source": [
    "def build_graph(sentences):\n",
    "    graph = networkx.Graph()\n",
    "    graph.add_nodes_from(sentences)\n",
    "    pairs = list(itertools.combinations(sentences, 2))\n",
    "    \n",
    "    for eins, zwei in pairs:\n",
    "        graph.add_edge(eins, zwei, weight=Sentence.co_occurence(eins, zwei))\n",
    "        \n",
    "    return graph"
   ]
  },
  {
   "cell_type": "code",
   "execution_count": 21,
   "metadata": {},
   "outputs": [],
   "source": [
    "def all_process(text):\n",
    "    sentences = get_sentence(text)\n",
    "    graph = build_graph(sentences)\n",
    "    pagerank = networkx.pagerank(graph, weight='weight')\n",
    "    reordered = sorted(pagerank, key=pagerank.get, reverse=True)\n",
    "    \n",
    "    return reordered"
   ]
  },
  {
   "cell_type": "code",
   "execution_count": 15,
   "metadata": {},
   "outputs": [],
   "source": [
    "text = '''계절이 지나가는 하늘에는\n",
    "가을로 가득 차 있습니다.\n",
    "\n",
    "나는 아무 걱정도 없이\n",
    "가을 속의 별들을 다 헤일 듯합니다.\n",
    "\n",
    "가슴 속에 하나 둘 새겨지는 별을\n",
    "이제 다 못 헤는 것은\n",
    "쉬이 아침이 오는 까닭이요,\n",
    "내일 밤이 남은 까닭이요,\n",
    "아직 나의 청춘이 다하지 않은 까닭입니다.\n",
    "\n",
    "별 하나에 추억과\n",
    "별 하나에 사랑과\n",
    "별 하나에 쓸쓸함과\n",
    "별 하나에 동경과\n",
    "별 하나에 시와\n",
    "별 하나에 어머니, 어머니,\n",
    "\n",
    "어머님, 나는 별 하나에 아름다운 말 한마디씩 불러봅니다.'''"
   ]
  },
  {
   "cell_type": "code",
   "execution_count": 22,
   "metadata": {},
   "outputs": [
    {
     "name": "stdout",
     "output_type": "stream",
     "text": [
      "\n",
      "{<__main__.Sentence object at 0x14de06430>: 0.011152416356877325, <__main__.Sentence object at 0x14de061f0>: 0.011152416356877325, <__main__.Sentence object at 0x1053be4f0>: 0.032295656788849166, <__main__.Sentence object at 0x1053beb20>: 0.04101352697380999, <__main__.Sentence object at 0x107f56ee0>: 0.07321742547607142, <__main__.Sentence object at 0x107f56f40>: 0.011152416356877325, <__main__.Sentence object at 0x14de15c10>: 0.049564545351278536, <__main__.Sentence object at 0x14de15160>: 0.049564545351278536, <__main__.Sentence object at 0x14de153d0>: 0.0739743752793817, <__main__.Sentence object at 0x14de15af0>: 0.09339547939550787, <__main__.Sentence object at 0x14de15f70>: 0.09339547939550787, <__main__.Sentence object at 0x14de15310>: 0.11187018452265063, <__main__.Sentence object at 0x14de158b0>: 0.09339547939550785, <__main__.Sentence object at 0x14de15a30>: 0.09339547939550785, <__main__.Sentence object at 0x14de15b20>: 0.07932636809298467, <__main__.Sentence object at 0x14de15a60>: 0.08213420551103207}\n"
     ]
    },
    {
     "data": {
      "text/plain": [
       "[<__main__.Sentence at 0x14de15310>,\n",
       " <__main__.Sentence at 0x14de15af0>,\n",
       " <__main__.Sentence at 0x14de15f70>,\n",
       " <__main__.Sentence at 0x14de158b0>,\n",
       " <__main__.Sentence at 0x14de15a30>,\n",
       " <__main__.Sentence at 0x14de15a60>,\n",
       " <__main__.Sentence at 0x14de15b20>,\n",
       " <__main__.Sentence at 0x14de153d0>,\n",
       " <__main__.Sentence at 0x107f56ee0>,\n",
       " <__main__.Sentence at 0x14de15c10>,\n",
       " <__main__.Sentence at 0x14de15160>,\n",
       " <__main__.Sentence at 0x1053beb20>,\n",
       " <__main__.Sentence at 0x1053be4f0>,\n",
       " <__main__.Sentence at 0x14de06430>,\n",
       " <__main__.Sentence at 0x14de061f0>,\n",
       " <__main__.Sentence at 0x107f56f40>]"
      ]
     },
     "execution_count": 22,
     "metadata": {},
     "output_type": "execute_result"
    }
   ],
   "source": [
    "all_process(text)"
   ]
  },
  {
   "cell_type": "code",
   "execution_count": 14,
   "metadata": {},
   "outputs": [],
   "source": [
    "import networkx\n",
    "import itertools"
   ]
  },
  {
   "cell_type": "code",
   "execution_count": 20,
   "metadata": {},
   "outputs": [
    {
     "name": "stdout",
     "output_type": "stream",
     "text": [
      "<__main__.Sentence object at 0x14de15be0>\n",
      "<__main__.Sentence object at 0x14de15d60>\n",
      "<__main__.Sentence object at 0x14de15f70>\n",
      "<__main__.Sentence object at 0x14de15400>\n",
      "<__main__.Sentence object at 0x14de15c70>\n",
      "<__main__.Sentence object at 0x12768bbb0>\n",
      "<__main__.Sentence object at 0x14de15b20>\n",
      "<__main__.Sentence object at 0x14de06430>\n",
      "<__main__.Sentence object at 0x105357b80>\n",
      "<__main__.Sentence object at 0x105343670>\n",
      "<__main__.Sentence object at 0x14de066d0>\n",
      "<__main__.Sentence object at 0x1276bf460>\n",
      "<__main__.Sentence object at 0x1276bf040>\n",
      "<__main__.Sentence object at 0x14dbd8e80>\n",
      "<__main__.Sentence object at 0x14dc36d60>\n",
      "<__main__.Sentence object at 0x105357a90>\n"
     ]
    }
   ],
   "source": [
    "for i in all_process(text):\n",
    "    print(i)"
   ]
  },
  {
   "cell_type": "code",
   "execution_count": null,
   "metadata": {},
   "outputs": [],
   "source": []
  }
 ],
 "metadata": {
  "kernelspec": {
   "display_name": "Python 3",
   "language": "python",
   "name": "python3"
  },
  "language_info": {
   "codemirror_mode": {
    "name": "ipython",
    "version": 3
   },
   "file_extension": ".py",
   "mimetype": "text/x-python",
   "name": "python",
   "nbconvert_exporter": "python",
   "pygments_lexer": "ipython3",
   "version": "3.8.5"
  }
 },
 "nbformat": 4,
 "nbformat_minor": 4
}
