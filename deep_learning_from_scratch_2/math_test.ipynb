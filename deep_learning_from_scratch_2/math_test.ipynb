{
 "cells": [
  {
   "cell_type": "code",
   "execution_count": 1,
   "metadata": {},
   "outputs": [],
   "source": [
    "import numpy as np"
   ]
  },
  {
   "cell_type": "code",
   "execution_count": 2,
   "metadata": {},
   "outputs": [
    {
     "data": {
      "text/plain": [
       "numpy.ndarray"
      ]
     },
     "execution_count": 2,
     "metadata": {},
     "output_type": "execute_result"
    }
   ],
   "source": [
    "x = np.array([1,2,3])\n",
    "x.__class__"
   ]
  },
  {
   "cell_type": "code",
   "execution_count": 3,
   "metadata": {},
   "outputs": [
    {
     "data": {
      "text/plain": [
       "(3,)"
      ]
     },
     "execution_count": 3,
     "metadata": {},
     "output_type": "execute_result"
    }
   ],
   "source": [
    "x.shape"
   ]
  },
  {
   "cell_type": "code",
   "execution_count": 4,
   "metadata": {},
   "outputs": [
    {
     "data": {
      "text/plain": [
       "1"
      ]
     },
     "execution_count": 4,
     "metadata": {},
     "output_type": "execute_result"
    }
   ],
   "source": [
    "x.ndim"
   ]
  },
  {
   "cell_type": "code",
   "execution_count": 6,
   "metadata": {},
   "outputs": [],
   "source": [
    "W = np.array([[1,2,3], [4,5,6]])"
   ]
  },
  {
   "cell_type": "code",
   "execution_count": 7,
   "metadata": {},
   "outputs": [
    {
     "data": {
      "text/plain": [
       "(2, 3)"
      ]
     },
     "execution_count": 7,
     "metadata": {},
     "output_type": "execute_result"
    }
   ],
   "source": [
    "W.shape"
   ]
  },
  {
   "cell_type": "code",
   "execution_count": 8,
   "metadata": {},
   "outputs": [
    {
     "data": {
      "text/plain": [
       "2"
      ]
     },
     "execution_count": 8,
     "metadata": {},
     "output_type": "execute_result"
    }
   ],
   "source": [
    "W.ndim"
   ]
  },
  {
   "cell_type": "code",
   "execution_count": 9,
   "metadata": {},
   "outputs": [],
   "source": [
    "X = np.array([[0,1,2], [3,4,5]])"
   ]
  },
  {
   "cell_type": "code",
   "execution_count": 10,
   "metadata": {},
   "outputs": [
    {
     "data": {
      "text/plain": [
       "array([[ 1,  3,  5],\n",
       "       [ 7,  9, 11]])"
      ]
     },
     "execution_count": 10,
     "metadata": {},
     "output_type": "execute_result"
    }
   ],
   "source": [
    "W + X"
   ]
  },
  {
   "cell_type": "code",
   "execution_count": 11,
   "metadata": {},
   "outputs": [
    {
     "data": {
      "text/plain": [
       "array([[ 0,  2,  6],\n",
       "       [12, 20, 30]])"
      ]
     },
     "execution_count": 11,
     "metadata": {},
     "output_type": "execute_result"
    }
   ],
   "source": [
    "W * X"
   ]
  },
  {
   "cell_type": "code",
   "execution_count": 12,
   "metadata": {},
   "outputs": [],
   "source": [
    "A = np.array([[1,2], [3,4]])"
   ]
  },
  {
   "cell_type": "code",
   "execution_count": 13,
   "metadata": {},
   "outputs": [
    {
     "data": {
      "text/plain": [
       "array([[10, 20],\n",
       "       [30, 40]])"
      ]
     },
     "execution_count": 13,
     "metadata": {},
     "output_type": "execute_result"
    }
   ],
   "source": [
    "A * 10"
   ]
  },
  {
   "cell_type": "code",
   "execution_count": 15,
   "metadata": {},
   "outputs": [],
   "source": [
    "b = np.array([10,20])"
   ]
  },
  {
   "cell_type": "code",
   "execution_count": 16,
   "metadata": {},
   "outputs": [
    {
     "data": {
      "text/plain": [
       "array([[10, 40],\n",
       "       [30, 80]])"
      ]
     },
     "execution_count": 16,
     "metadata": {},
     "output_type": "execute_result"
    }
   ],
   "source": [
    "A * b"
   ]
  },
  {
   "cell_type": "code",
   "execution_count": 17,
   "metadata": {},
   "outputs": [],
   "source": [
    "# 벡터의 내적\n",
    "a = np.array([1,2,3])\n",
    "b = np.array([4,5,6])"
   ]
  },
  {
   "cell_type": "code",
   "execution_count": 18,
   "metadata": {},
   "outputs": [
    {
     "data": {
      "text/plain": [
       "32"
      ]
     },
     "execution_count": 18,
     "metadata": {},
     "output_type": "execute_result"
    }
   ],
   "source": [
    "np.dot(a,b)"
   ]
  },
  {
   "cell_type": "code",
   "execution_count": 19,
   "metadata": {},
   "outputs": [],
   "source": [
    "# 행렬의 곱\n",
    "A = np.array([[1,2], [3,4]])\n",
    "B = np.array([[5,6], [7,8]])"
   ]
  },
  {
   "cell_type": "code",
   "execution_count": 20,
   "metadata": {},
   "outputs": [
    {
     "data": {
      "text/plain": [
       "array([[19, 22],\n",
       "       [43, 50]])"
      ]
     },
     "execution_count": 20,
     "metadata": {},
     "output_type": "execute_result"
    }
   ],
   "source": [
    "np.matmul(A, B)"
   ]
  },
  {
   "cell_type": "code",
   "execution_count": 2,
   "metadata": {},
   "outputs": [],
   "source": [
    "W1 = np.random.randn(2, 4)    # 가중치\n",
    "b1 = np.random.randn(4)       # 편항\n",
    "x = np.random.randn(10, 2)    # 입력\n",
    "h = np.matmul(x, W1) + b1"
   ]
  },
  {
   "cell_type": "code",
   "execution_count": 3,
   "metadata": {},
   "outputs": [
    {
     "data": {
      "text/plain": [
       "array([[-1.62078818,  0.89547503,  1.36354937, -1.05626132],\n",
       "       [-3.92869167,  5.26777644,  3.17353743,  1.53640149],\n",
       "       [-0.91353639,  0.38303996,  1.7201478 , -0.40733631],\n",
       "       [-1.27606273,  0.78989089,  1.69615115, -0.48844218],\n",
       "       [ 1.66174645, -3.46909843,  0.83117979, -1.50932213],\n",
       "       [-0.42914126, -0.68384588,  1.17594   , -1.21177708],\n",
       "       [-2.36893396,  1.7775531 ,  1.36078815, -1.14957076],\n",
       "       [-2.08294904,  2.17992552,  2.17631276,  0.1762136 ],\n",
       "       [-4.18326592,  5.52610771,  3.12654533,  1.43170371],\n",
       "       [-1.63767386,  1.60557426,  2.12359242,  0.14563676]])"
      ]
     },
     "execution_count": 3,
     "metadata": {},
     "output_type": "execute_result"
    }
   ],
   "source": [
    "h"
   ]
  },
  {
   "cell_type": "code",
   "execution_count": 4,
   "metadata": {},
   "outputs": [],
   "source": [
    "def sigmoid(x) :\n",
    "    return 1 / (1 + np.exp(-x))"
   ]
  },
  {
   "cell_type": "code",
   "execution_count": 5,
   "metadata": {},
   "outputs": [],
   "source": [
    "a = sigmoid(h)"
   ]
  },
  {
   "cell_type": "code",
   "execution_count": 6,
   "metadata": {},
   "outputs": [
    {
     "data": {
      "text/plain": [
       "array([[0.1650962 , 0.71001873, 0.79633596, 0.25802457],\n",
       "       [0.01928997, 0.99487138, 0.95982621, 0.822941  ],\n",
       "       [0.28627673, 0.5946061 , 0.84814787, 0.399551  ],\n",
       "       [0.21822118, 0.6878079 , 0.84503138, 0.38026062],\n",
       "       [0.8404723 , 0.03020438, 0.69660433, 0.18103928],\n",
       "       [0.39433141, 0.33540348, 0.76421702, 0.22938677],\n",
       "       [0.08557252, 0.85539446, 0.79588776, 0.2405675 ],\n",
       "       [0.11076516, 0.89843228, 0.89810213, 0.54393976],\n",
       "       [0.0150196 , 0.99603433, 0.95797453, 0.80716664],\n",
       "       [0.16278183, 0.83279602, 0.89317518, 0.53634497]])"
      ]
     },
     "execution_count": 6,
     "metadata": {},
     "output_type": "execute_result"
    }
   ],
   "source": [
    "a"
   ]
  },
  {
   "cell_type": "code",
   "execution_count": 8,
   "metadata": {},
   "outputs": [],
   "source": [
    "x = np.random.randn(10, 2)\n",
    "W1 = np.random.randn(2, 4)\n",
    "b1 = np.random.randn(4)\n",
    "W2 = np.random.randn(4, 3)\n",
    "b2 = np.random.randn(3)\n",
    "\n",
    "h = np.matmul(x, W1) + b1\n",
    "a = sigmoid(h)\n",
    "s = np.matmul(a, W2) + b2"
   ]
  },
  {
   "cell_type": "code",
   "execution_count": 9,
   "metadata": {},
   "outputs": [
    {
     "data": {
      "text/plain": [
       "array([[ 1.52128376,  0.79740151,  1.23027474,  1.03244931],\n",
       "       [ 1.39328695, -1.16786151, -1.42476212,  1.47839465],\n",
       "       [ 1.79433663, -1.00738281, -1.37686987,  1.48528356],\n",
       "       [ 2.52120238, -0.9603292 , -1.62630487,  1.55485088],\n",
       "       [ 2.13797358, -0.46545931, -0.77808103,  1.39649802],\n",
       "       [ 2.2442284 , -0.2332827 , -0.50382444,  1.35391745],\n",
       "       [ 3.26148886, -1.54822057, -2.75722662,  1.77456858],\n",
       "       [ 1.2937582 , -0.39831921, -0.32040886,  1.28718402],\n",
       "       [ 0.79959954, -1.25969085, -1.29467168,  1.43407573],\n",
       "       [ 2.47761922, -0.55266023, -1.04522179,  1.45456968]])"
      ]
     },
     "execution_count": 9,
     "metadata": {},
     "output_type": "execute_result"
    }
   ],
   "source": [
    "h"
   ]
  },
  {
   "cell_type": "code",
   "execution_count": 10,
   "metadata": {},
   "outputs": [
    {
     "data": {
      "text/plain": [
       "array([[0.82072744, 0.68941837, 0.77386666, 0.73739047],\n",
       "       [0.80111647, 0.23724174, 0.19391612, 0.81432998],\n",
       "       [0.85745814, 0.26749235, 0.20151218, 0.8153693 ],\n",
       "       [0.92561488, 0.27681229, 0.16433719, 0.82561325],\n",
       "       [0.89453959, 0.38569153, 0.31473362, 0.80162759],\n",
       "       [0.90415152, 0.44194238, 0.37664233, 0.79476935],\n",
       "       [0.96308376, 0.17534342, 0.05967981, 0.8550249 ],\n",
       "       [0.78478262, 0.40171623, 0.42057611, 0.78367017],\n",
       "       [0.68988881, 0.22102712, 0.21506313, 0.80753557],\n",
       "       [0.92255787, 0.36524744, 0.2601437 , 0.81070072]])"
      ]
     },
     "execution_count": 10,
     "metadata": {},
     "output_type": "execute_result"
    }
   ],
   "source": [
    "a"
   ]
  },
  {
   "cell_type": "code",
   "execution_count": 11,
   "metadata": {},
   "outputs": [
    {
     "data": {
      "text/plain": [
       "array([[-2.84907646, -0.90043495,  1.77390078],\n",
       "       [-3.16595006, -0.53517806,  1.3024339 ],\n",
       "       [-3.21818289, -0.51324399,  1.34959064],\n",
       "       [-3.31455393, -0.44846625,  1.37653516],\n",
       "       [-3.19198164, -0.55530456,  1.48146505],\n",
       "       [-3.16836388, -0.58616317,  1.54133464],\n",
       "       [-3.43389528, -0.38934128,  1.27452934],\n",
       "       [-3.01826264, -0.69082326,  1.467128  ],\n",
       "       [-3.04419596, -0.58809695,  1.25369974],\n",
       "       [-3.25445529, -0.49846018,  1.46764104]])"
      ]
     },
     "execution_count": 11,
     "metadata": {},
     "output_type": "execute_result"
    }
   ],
   "source": [
    "s"
   ]
  },
  {
   "cell_type": "code",
   "execution_count": 2,
   "metadata": {},
   "outputs": [],
   "source": [
    "D, N = 8, 7\n",
    "x = np.random.randn(1, D)      # 입력\n",
    "y = np.repeat(x, N, axis = 0)  # 순전파\n",
    "dy = np.random.randn(N, D)     # 무작위 기울기\n",
    "dx = np.sum(dy, axis = 0, keepdims = True)  # 역전파"
   ]
  },
  {
   "cell_type": "code",
   "execution_count": 3,
   "metadata": {},
   "outputs": [
    {
     "data": {
      "text/plain": [
       "array([[ 0.77509954,  0.12589125, -1.20101993, -0.27471299,  0.49170894,\n",
       "         0.63500107,  0.25261168,  0.67796474]])"
      ]
     },
     "execution_count": 3,
     "metadata": {},
     "output_type": "execute_result"
    }
   ],
   "source": [
    "x"
   ]
  },
  {
   "cell_type": "code",
   "execution_count": 4,
   "metadata": {},
   "outputs": [
    {
     "data": {
      "text/plain": [
       "array([[ 0.77509954,  0.12589125, -1.20101993, -0.27471299,  0.49170894,\n",
       "         0.63500107,  0.25261168,  0.67796474],\n",
       "       [ 0.77509954,  0.12589125, -1.20101993, -0.27471299,  0.49170894,\n",
       "         0.63500107,  0.25261168,  0.67796474],\n",
       "       [ 0.77509954,  0.12589125, -1.20101993, -0.27471299,  0.49170894,\n",
       "         0.63500107,  0.25261168,  0.67796474],\n",
       "       [ 0.77509954,  0.12589125, -1.20101993, -0.27471299,  0.49170894,\n",
       "         0.63500107,  0.25261168,  0.67796474],\n",
       "       [ 0.77509954,  0.12589125, -1.20101993, -0.27471299,  0.49170894,\n",
       "         0.63500107,  0.25261168,  0.67796474],\n",
       "       [ 0.77509954,  0.12589125, -1.20101993, -0.27471299,  0.49170894,\n",
       "         0.63500107,  0.25261168,  0.67796474],\n",
       "       [ 0.77509954,  0.12589125, -1.20101993, -0.27471299,  0.49170894,\n",
       "         0.63500107,  0.25261168,  0.67796474]])"
      ]
     },
     "execution_count": 4,
     "metadata": {},
     "output_type": "execute_result"
    }
   ],
   "source": [
    "y"
   ]
  },
  {
   "cell_type": "code",
   "execution_count": null,
   "metadata": {},
   "outputs": [],
   "source": []
  }
 ],
 "metadata": {
  "kernelspec": {
   "display_name": "Python 3",
   "language": "python",
   "name": "python3"
  },
  "language_info": {
   "codemirror_mode": {
    "name": "ipython",
    "version": 3
   },
   "file_extension": ".py",
   "mimetype": "text/x-python",
   "name": "python",
   "nbconvert_exporter": "python",
   "pygments_lexer": "ipython3",
   "version": "3.7.3"
  }
 },
 "nbformat": 4,
 "nbformat_minor": 2
}
